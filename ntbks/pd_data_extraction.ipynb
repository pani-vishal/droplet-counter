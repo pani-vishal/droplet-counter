{
 "cells": [
  {
   "cell_type": "code",
   "execution_count": 1,
   "id": "a7ce4917-737f-4289-b2ee-7ccced38bb09",
   "metadata": {},
   "outputs": [],
   "source": [
    "import cv2\n",
    "import numpy as np\n",
    "import matplotlib.pyplot as plt\n",
    "import os\n",
    "\n",
    "import sys\n",
    "sys.path.append(\"..\")"
   ]
  },
  {
   "cell_type": "code",
   "execution_count": 4,
   "id": "d2bd80b4",
   "metadata": {
    "collapsed": false,
    "jupyter": {
     "outputs_hidden": false
    },
    "pycharm": {
     "name": "#%%\n"
    }
   },
   "outputs": [],
   "source": [
    "from src.circle_detection.hough_circle_detection import hough_circle_detection\n",
    "from src.data_utils.droplets_image_extractor import droplets_image_extractor\n",
    "from tqdm import tqdm"
   ]
  },
  {
   "cell_type": "code",
   "execution_count": null,
   "id": "96750228",
   "metadata": {
    "collapsed": false,
    "jupyter": {
     "outputs_hidden": false
    },
    "pycharm": {
     "name": "#%%\n"
    }
   },
   "outputs": [],
   "source": [
    "input_folders = [\"../datasets/droplets/train/original/\",\n",
    "                 \"../datasets/droplets/test/original/\",\n",
    "                 \"../datasets/droplets/whole/original/\"]\n",
    "\n",
    "output_folders = [\"../datasets/droplets/train/pd/\",\n",
    "                  \"../datasets/droplets/test/pd/\",\n",
    "                  \"../datasets/droplets/whole/pd/\"]\n",
    "\n",
    "for input_folder, output_folder in zip(input_folders, output_folders):\n",
    "\n",
    "    input_files = os.listdir(input_folder)\n",
    "\n",
    "    for input_file in input_files:\n",
    "        image = cv2.imread(input_folder + input_file)\n",
    "\n",
    "        image_gray = image[:, :, 0]\n",
    "\n",
    "        circle_images = droplets_image_extractor(input_folder + input_file, image_gray, hough_circle_detection, \n",
    "                                                 remove_background=True, border_circles_included=False, reshape_first=True)\n",
    "\n",
    "        for id, circle_image in tqdm(enumerate(circle_images), total=len(circle_images)):\n",
    "\n",
    "            cv2.imwrite(f\"{output_folder}{id}_{input_file}\", circle_image)"
   ]
  },
  {
   "cell_type": "code",
   "execution_count": null,
   "id": "54d4f9ac",
   "metadata": {},
   "outputs": [],
   "source": []
  }
 ],
 "metadata": {
  "kernelspec": {
   "display_name": "Python 3 (ipykernel)",
   "language": "python",
   "name": "python3"
  },
  "language_info": {
   "codemirror_mode": {
    "name": "ipython",
    "version": 3
   },
   "file_extension": ".py",
   "mimetype": "text/x-python",
   "name": "python",
   "nbconvert_exporter": "python",
   "pygments_lexer": "ipython3",
   "version": "3.9.7"
  }
 },
 "nbformat": 4,
 "nbformat_minor": 5
}
