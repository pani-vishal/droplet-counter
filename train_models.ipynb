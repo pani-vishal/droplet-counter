{
 "cells": [
  {
   "cell_type": "markdown",
   "id": "30da1370",
   "metadata": {},
   "source": [
    "# Settings"
   ]
  },
  {
   "cell_type": "code",
   "execution_count": 1,
   "id": "f445935b-b193-41fe-908a-f0cdbaea1b4e",
   "metadata": {},
   "outputs": [
    {
     "name": "stderr",
     "output_type": "stream",
     "text": [
      "2021-12-23 09:51:28.380174: I tensorflow/stream_executor/platform/default/dso_loader.cc:49] Successfully opened dynamic library libcudart.so.10.1\n"
     ]
    }
   ],
   "source": [
    "%matplotlib inline\n",
    "\n",
    "import time\n",
    "import os, os.path\n",
    "import random\n",
    "import cv2\n",
    "import glob\n",
    "#import keras\n",
    "import matplotlib\n",
    "import matplotlib.pyplot as plt\n",
    "\n",
    "import os\n",
    "os.environ[\"CUDA_VISIBLE_DEVICES\"]=\"0\"\n",
    "\n",
    "import tensorflow as tf\n",
    "\n",
    "import tqdm\n",
    "#import pandas as pd\n",
    "import numpy as np\n",
    "import json"
   ]
  },
  {
   "cell_type": "code",
   "execution_count": 2,
   "id": "4f546a58-7b51-46b0-863b-ad554c06cf08",
   "metadata": {},
   "outputs": [],
   "source": [
    "from tensorflow.keras.models import Sequential\n",
    "from tensorflow.keras.layers import Dense, Dropout, Activation, Flatten, GlobalAveragePooling2D\n",
    "from tensorflow.keras.layers import Conv2D, MaxPooling2D, ZeroPadding2D\n",
    "from tensorflow.keras.layers import BatchNormalization\n",
    "from tensorflow.keras.models import Model\n",
    "from tensorflow.keras.optimizers import Adam\n",
    "from sklearn.utils import class_weight\n",
    "from sklearn.model_selection import train_test_split"
   ]
  },
  {
   "cell_type": "code",
   "execution_count": 3,
   "id": "76a33dab",
   "metadata": {},
   "outputs": [],
   "source": [
    "from src.circle_detection.hough_circle_detection import hough_circle_detection\n",
    "import math"
   ]
  },
  {
   "cell_type": "code",
   "execution_count": 4,
   "id": "25dfdcc5",
   "metadata": {},
   "outputs": [],
   "source": [
    "seed_value = 42\n",
    "random.seed(seed_value)\n",
    "np.random.seed(seed_value)\n",
    "tf.random.set_seed(seed_value)"
   ]
  },
  {
   "cell_type": "code",
   "execution_count": 5,
   "id": "461c58fa-209e-4834-b1c8-1c96a2f27bf4",
   "metadata": {},
   "outputs": [
    {
     "name": "stdout",
     "output_type": "stream",
     "text": [
      "[PhysicalDevice(name='/physical_device:CPU:0', device_type='CPU'), PhysicalDevice(name='/physical_device:GPU:0', device_type='GPU')]\n"
     ]
    },
    {
     "name": "stderr",
     "output_type": "stream",
     "text": [
      "2021-12-23 09:51:31.469190: I tensorflow/compiler/jit/xla_cpu_device.cc:41] Not creating XLA devices, tf_xla_enable_xla_devices not set\n",
      "2021-12-23 09:51:31.471971: I tensorflow/stream_executor/platform/default/dso_loader.cc:49] Successfully opened dynamic library libcuda.so.1\n",
      "2021-12-23 09:51:31.577329: I tensorflow/core/common_runtime/gpu/gpu_device.cc:1720] Found device 0 with properties: \n",
      "pciBusID: 0000:02:00.0 name: NVIDIA TITAN V computeCapability: 7.0\n",
      "coreClock: 1.455GHz coreCount: 80 deviceMemorySize: 11.78GiB deviceMemoryBandwidth: 607.97GiB/s\n",
      "2021-12-23 09:51:31.577474: I tensorflow/stream_executor/platform/default/dso_loader.cc:49] Successfully opened dynamic library libcudart.so.10.1\n",
      "2021-12-23 09:51:31.622517: I tensorflow/stream_executor/platform/default/dso_loader.cc:49] Successfully opened dynamic library libcublas.so.10\n",
      "2021-12-23 09:51:31.622607: I tensorflow/stream_executor/platform/default/dso_loader.cc:49] Successfully opened dynamic library libcublasLt.so.10\n",
      "2021-12-23 09:51:31.653296: I tensorflow/stream_executor/platform/default/dso_loader.cc:49] Successfully opened dynamic library libcufft.so.10\n",
      "2021-12-23 09:51:31.661441: I tensorflow/stream_executor/platform/default/dso_loader.cc:49] Successfully opened dynamic library libcurand.so.10\n",
      "2021-12-23 09:51:31.716375: I tensorflow/stream_executor/platform/default/dso_loader.cc:49] Successfully opened dynamic library libcusolver.so.10\n",
      "2021-12-23 09:51:31.724099: I tensorflow/stream_executor/platform/default/dso_loader.cc:49] Successfully opened dynamic library libcusparse.so.10\n",
      "2021-12-23 09:51:31.804802: I tensorflow/stream_executor/platform/default/dso_loader.cc:49] Successfully opened dynamic library libcudnn.so.7\n",
      "2021-12-23 09:51:31.806904: I tensorflow/core/common_runtime/gpu/gpu_device.cc:1862] Adding visible gpu devices: 0\n"
     ]
    }
   ],
   "source": [
    "print(tf.config.list_physical_devices())"
   ]
  },
  {
   "cell_type": "code",
   "execution_count": 6,
   "id": "3cbffe42-d404-4ddd-9be6-92979af49892",
   "metadata": {},
   "outputs": [
    {
     "name": "stdout",
     "output_type": "stream",
     "text": [
      "Thu Dec 23 09:51:36 2021       \n",
      "+-----------------------------------------------------------------------------+\n",
      "| NVIDIA-SMI 470.74       Driver Version: 470.74       CUDA Version: 11.4     |\n",
      "|-------------------------------+----------------------+----------------------+\n",
      "| GPU  Name        Persistence-M| Bus-Id        Disp.A | Volatile Uncorr. ECC |\n",
      "| Fan  Temp  Perf  Pwr:Usage/Cap|         Memory-Usage | GPU-Util  Compute M. |\n",
      "|                               |                      |               MIG M. |\n",
      "|===============================+======================+======================|\n",
      "|   0  NVIDIA TITAN V      On   | 00000000:02:00.0 Off |                  N/A |\n",
      "| 28%   29C    P8    25W / 250W |      4MiB / 12066MiB |      0%      Default |\n",
      "|                               |                      |                  N/A |\n",
      "+-------------------------------+----------------------+----------------------+\n",
      "|   1  NVIDIA TITAN V      On   | 00000000:03:00.0 Off |                  N/A |\n",
      "| 28%   31C    P8    26W / 250W |      0MiB / 12066MiB |      0%      Default |\n",
      "|                               |                      |                  N/A |\n",
      "+-------------------------------+----------------------+----------------------+\n",
      "|   2  NVIDIA TITAN V      On   | 00000000:83:00.0 Off |                  N/A |\n",
      "| 28%   30C    P8    24W / 250W |      0MiB / 12066MiB |      0%      Default |\n",
      "|                               |                      |                  N/A |\n",
      "+-------------------------------+----------------------+----------------------+\n",
      "|   3  NVIDIA TITAN V      On   | 00000000:84:00.0 Off |                  N/A |\n",
      "| 28%   28C    P8    23W / 250W |  11375MiB / 12066MiB |      0%      Default |\n",
      "|                               |                      |                  N/A |\n",
      "+-------------------------------+----------------------+----------------------+\n",
      "                                                                               \n",
      "+-----------------------------------------------------------------------------+\n",
      "| Processes:                                                                  |\n",
      "|  GPU   GI   CI        PID   Type   Process name                  GPU Memory |\n",
      "|        ID   ID                                                   Usage      |\n",
      "|=============================================================================|\n",
      "|    3   N/A  N/A   2352606      C   ....conda/envs/tf/bin/python    11371MiB |\n",
      "+-----------------------------------------------------------------------------+\n"
     ]
    }
   ],
   "source": [
    "!nvidia-smi"
   ]
  },
  {
   "cell_type": "markdown",
   "id": "f383eb72",
   "metadata": {},
   "source": [
    "# Model Selection"
   ]
  },
  {
   "cell_type": "code",
   "execution_count": 7,
   "id": "b700e2bc-3002-4764-b80f-7dded4f70e8d",
   "metadata": {},
   "outputs": [
    {
     "name": "stderr",
     "output_type": "stream",
     "text": [
      "2021-12-23 09:51:44.826684: I tensorflow/core/platform/cpu_feature_guard.cc:142] This TensorFlow binary is optimized with oneAPI Deep Neural Network Library (oneDNN) to use the following CPU instructions in performance-critical operations:  SSE4.1 SSE4.2 AVX AVX2 FMA\n",
      "To enable them in other operations, rebuild TensorFlow with the appropriate compiler flags.\n",
      "2021-12-23 09:51:44.829028: I tensorflow/core/common_runtime/gpu/gpu_device.cc:1720] Found device 0 with properties: \n",
      "pciBusID: 0000:02:00.0 name: NVIDIA TITAN V computeCapability: 7.0\n",
      "coreClock: 1.455GHz coreCount: 80 deviceMemorySize: 11.78GiB deviceMemoryBandwidth: 607.97GiB/s\n",
      "2021-12-23 09:51:44.829176: I tensorflow/stream_executor/platform/default/dso_loader.cc:49] Successfully opened dynamic library libcudart.so.10.1\n",
      "2021-12-23 09:51:44.829249: I tensorflow/stream_executor/platform/default/dso_loader.cc:49] Successfully opened dynamic library libcublas.so.10\n",
      "2021-12-23 09:51:44.829314: I tensorflow/stream_executor/platform/default/dso_loader.cc:49] Successfully opened dynamic library libcublasLt.so.10\n",
      "2021-12-23 09:51:44.829377: I tensorflow/stream_executor/platform/default/dso_loader.cc:49] Successfully opened dynamic library libcufft.so.10\n",
      "2021-12-23 09:51:44.829439: I tensorflow/stream_executor/platform/default/dso_loader.cc:49] Successfully opened dynamic library libcurand.so.10\n",
      "2021-12-23 09:51:44.829502: I tensorflow/stream_executor/platform/default/dso_loader.cc:49] Successfully opened dynamic library libcusolver.so.10\n",
      "2021-12-23 09:51:44.829564: I tensorflow/stream_executor/platform/default/dso_loader.cc:49] Successfully opened dynamic library libcusparse.so.10\n",
      "2021-12-23 09:51:44.829627: I tensorflow/stream_executor/platform/default/dso_loader.cc:49] Successfully opened dynamic library libcudnn.so.7\n",
      "2021-12-23 09:51:44.833629: I tensorflow/core/common_runtime/gpu/gpu_device.cc:1862] Adding visible gpu devices: 0\n",
      "2021-12-23 09:51:44.834918: I tensorflow/stream_executor/platform/default/dso_loader.cc:49] Successfully opened dynamic library libcudart.so.10.1\n",
      "2021-12-23 09:51:46.171773: I tensorflow/core/common_runtime/gpu/gpu_device.cc:1261] Device interconnect StreamExecutor with strength 1 edge matrix:\n",
      "2021-12-23 09:51:46.172049: I tensorflow/core/common_runtime/gpu/gpu_device.cc:1267]      0 \n",
      "2021-12-23 09:51:46.172078: I tensorflow/core/common_runtime/gpu/gpu_device.cc:1280] 0:   N \n",
      "2021-12-23 09:51:46.176171: I tensorflow/core/common_runtime/gpu/gpu_device.cc:1406] Created TensorFlow device (/job:localhost/replica:0/task:0/device:GPU:0 with 10914 MB memory) -> physical GPU (device: 0, name: NVIDIA TITAN V, pci bus id: 0000:02:00.0, compute capability: 7.0)\n",
      "2021-12-23 09:51:46.176529: I tensorflow/compiler/jit/xla_gpu_device.cc:99] Not creating XLA devices, tf_xla_enable_xla_devices not set\n"
     ]
    },
    {
     "name": "stdout",
     "output_type": "stream",
     "text": [
      "Model: \"vgg16\"\n",
      "_________________________________________________________________\n",
      "Layer (type)                 Output Shape              Param #   \n",
      "=================================================================\n",
      "input_1 (InputLayer)         [(None, 224, 224, 3)]     0         \n",
      "_________________________________________________________________\n",
      "block1_conv1 (Conv2D)        (None, 224, 224, 64)      1792      \n",
      "_________________________________________________________________\n",
      "block1_conv2 (Conv2D)        (None, 224, 224, 64)      36928     \n",
      "_________________________________________________________________\n",
      "block1_pool (MaxPooling2D)   (None, 112, 112, 64)      0         \n",
      "_________________________________________________________________\n",
      "block2_conv1 (Conv2D)        (None, 112, 112, 128)     73856     \n",
      "_________________________________________________________________\n",
      "block2_conv2 (Conv2D)        (None, 112, 112, 128)     147584    \n",
      "_________________________________________________________________\n",
      "block2_pool (MaxPooling2D)   (None, 56, 56, 128)       0         \n",
      "_________________________________________________________________\n",
      "block3_conv1 (Conv2D)        (None, 56, 56, 256)       295168    \n",
      "_________________________________________________________________\n",
      "block3_conv2 (Conv2D)        (None, 56, 56, 256)       590080    \n",
      "_________________________________________________________________\n",
      "block3_conv3 (Conv2D)        (None, 56, 56, 256)       590080    \n",
      "_________________________________________________________________\n",
      "block3_pool (MaxPooling2D)   (None, 28, 28, 256)       0         \n",
      "_________________________________________________________________\n",
      "block4_conv1 (Conv2D)        (None, 28, 28, 512)       1180160   \n",
      "_________________________________________________________________\n",
      "block4_conv2 (Conv2D)        (None, 28, 28, 512)       2359808   \n",
      "_________________________________________________________________\n",
      "block4_conv3 (Conv2D)        (None, 28, 28, 512)       2359808   \n",
      "_________________________________________________________________\n",
      "block4_pool (MaxPooling2D)   (None, 14, 14, 512)       0         \n",
      "_________________________________________________________________\n",
      "block5_conv1 (Conv2D)        (None, 14, 14, 512)       2359808   \n",
      "_________________________________________________________________\n",
      "block5_conv2 (Conv2D)        (None, 14, 14, 512)       2359808   \n",
      "_________________________________________________________________\n",
      "block5_conv3 (Conv2D)        (None, 14, 14, 512)       2359808   \n",
      "_________________________________________________________________\n",
      "block5_pool (MaxPooling2D)   (None, 7, 7, 512)         0         \n",
      "=================================================================\n",
      "Total params: 14,714,688\n",
      "Trainable params: 7,079,424\n",
      "Non-trainable params: 7,635,264\n",
      "_________________________________________________________________\n"
     ]
    }
   ],
   "source": [
    "model_choice = \"vgg16_fine_tune\"\n",
    "\n",
    "if model_choice == \"vgg16_transfer\":\n",
    "    base_model = tf.keras.applications.vgg16.VGG16(include_top=False, weights=\"imagenet\", input_shape=(224,224,3))\n",
    "    \n",
    "    # Freeze model\n",
    "    for layer in base_model.layers:\n",
    "        layer.trainable = False\n",
    "        \n",
    "elif model_choice == \"vgg19_transfer\":\n",
    "    base_model = tf.keras.applications.vgg19.VGG19(include_top=False, weights=\"imagenet\", input_shape=(224,224,3))\n",
    "    \n",
    "    # Freeze model\n",
    "    for layer in base_model.layers:\n",
    "        layer.trainable = False\n",
    "elif model_choice == \"resnet50_transfer\":\n",
    "    base_model = tf.keras.applications.resnet50.ResNet50(include_top=False, weights=\"imagenet\", input_shape=(224,224,3))\n",
    "    \n",
    "    # Freeze model\n",
    "    for layer in base_model.layers:\n",
    "        layer.trainable = False\n",
    "\n",
    "elif model_choice == \"vgg16_fine_tune\":\n",
    "    base_model = tf.keras.applications.vgg16.VGG16(include_top=False, weights=\"imagenet\", input_shape=(224,224,3))\n",
    "    \n",
    "    # Freeze model\n",
    "    for layer in base_model.layers:\n",
    "        if(layer.name.startswith(\"block5\")):\n",
    "            layer.trainable = True\n",
    "        else:\n",
    "            layer.trainable = False  \n",
    "            \n",
    "elif model_choice == \"vgg19_fine_tune\":\n",
    "    base_model = tf.keras.applications.vgg19.VGG19(include_top=False, weights=\"imagenet\", input_shape=(224,224,3))\n",
    "    \n",
    "    # Freeze model\n",
    "    for layer in base_model.layers:\n",
    "        if(layer.name.startswith(\"block5\")):\n",
    "            layer.trainable = True\n",
    "        else:\n",
    "            layer.trainable = False  \n",
    "else:\n",
    "    print(\"Please choose a valid model\")\n",
    "\n",
    "base_model.summary()\n"
   ]
  },
  {
   "cell_type": "code",
   "execution_count": 8,
   "id": "bad4b69a-41a5-45cc-a251-1bdaa7407e3d",
   "metadata": {},
   "outputs": [],
   "source": [
    "# Function to create the final classification model\n",
    "def layer_adder(bottom_model, num_classes):\n",
    "    top_model = bottom_model.output\n",
    "    top_model = GlobalAveragePooling2D()(top_model)\n",
    "    top_model = Dense(1024, activation=\"relu\")(top_model)\n",
    "    top_model = Dense(512, activation=\"relu\")(top_model)\n",
    "    top_model = Dense(num_classes, activation=\"softmax\")(top_model)\n",
    "    return top_model"
   ]
  },
  {
   "cell_type": "code",
   "execution_count": 9,
   "id": "e9daf25b-91ba-475b-a4f7-d22ed974f40f",
   "metadata": {},
   "outputs": [],
   "source": [
    "droplets_head = layer_adder(base_model, 3)\n",
    "droplets_model = Model(inputs = base_model.input, outputs = droplets_head)\n",
    "droplets_model.compile(loss = \"categorical_crossentropy\",\n",
    "                       optimizer = \"Adam\",\n",
    "                       metrics = [\"accuracy\"])"
   ]
  },
  {
   "cell_type": "code",
   "execution_count": 10,
   "id": "b31b2be7",
   "metadata": {},
   "outputs": [],
   "source": [
    "# Saving the best model\n",
    "checkpoint_filepath = f'models/{model_choice}_checkpoint'\n",
    "model_checkpoint_callback = tf.keras.callbacks.ModelCheckpoint(\n",
    "    filepath=checkpoint_filepath,\n",
    "    save_weights_only=True,\n",
    "    monitor='val_accuracy',\n",
    "    mode='max',\n",
    "    save_best_only=True)"
   ]
  },
  {
   "cell_type": "markdown",
   "id": "0d952d9d",
   "metadata": {},
   "source": [
    "# Handling targets"
   ]
  },
  {
   "cell_type": "code",
   "execution_count": 11,
   "id": "9f50fd4b-1990-4e6d-b096-ed4e103fa95e",
   "metadata": {},
   "outputs": [],
   "source": [
    "with open(\"datasets/droplets/label-data-min.json\") as infile:\n",
    "    label_json = json.load(infile)"
   ]
  },
  {
   "cell_type": "code",
   "execution_count": 12,
   "id": "8bd1fd40-b4b0-43d5-9ac1-b4470342fcfa",
   "metadata": {},
   "outputs": [],
   "source": [
    "images = []\n",
    "labels = []\n",
    "for image in label_json:\n",
    "    \n",
    "    image_filename = image[\"image\"][24:]\n",
    "    # print(image_filename)\n",
    "    img = cv2.imread(f\"datasets/droplets/label-data/{image_filename}\")\n",
    "    \n",
    "    if img is None:\n",
    "        print(image_filename)\n",
    "    img = cv2.resize(img, (224,224))\n",
    "    \n",
    "    img = np.array(img, dtype=np.float32)\n",
    "\n",
    "    # Normalise the images\n",
    "    img /= 255\n",
    "    \n",
    "    label = image[\"choice\"]\n",
    "    \n",
    "    if label == \"Not_Droplet\":\n",
    "        label = 2\n",
    "    if label == \"Empty\":\n",
    "        label = 0\n",
    "    if label == \"Bacteria\":\n",
    "        label = 1\n",
    "\n",
    "    \n",
    "    images.append(img)\n",
    "    \n",
    "    labels.append(label)\n",
    "\n",
    "images = np.array(images)\n",
    "labels = np.array(labels)"
   ]
  },
  {
   "cell_type": "code",
   "execution_count": 13,
   "id": "cc446b61-1c9c-4dc1-a5de-e48e128e8d12",
   "metadata": {},
   "outputs": [],
   "source": [
    "images_train, images_test, labels_train, labels_test = train_test_split(images, labels, test_size=0.30, random_state=seed_value)"
   ]
  },
  {
   "cell_type": "code",
   "execution_count": 14,
   "id": "0ce024a0-78f6-4fd2-a74d-41024d523a05",
   "metadata": {},
   "outputs": [],
   "source": [
    "# Computing class weights\n",
    "class_weights = class_weight.compute_class_weight(class_weight='balanced',\n",
    "                                                 classes=np.unique(labels_train),\n",
    "                                                 y=labels_train)\n",
    "class_weight_dict = dict(enumerate(class_weights))"
   ]
  },
  {
   "cell_type": "code",
   "execution_count": 15,
   "id": "b04ce7e2-bab3-4ac5-aa3a-02d056d20634",
   "metadata": {},
   "outputs": [],
   "source": [
    "def one_hot(a, num_classes):\n",
    "  return np.squeeze(np.eye(num_classes)[a.reshape(-1)])\n",
    "labels_train = one_hot(labels_train, 3)"
   ]
  },
  {
   "cell_type": "markdown",
   "id": "bb7df360",
   "metadata": {},
   "source": [
    "# Training"
   ]
  },
  {
   "cell_type": "code",
   "execution_count": 16,
   "id": "782d4a9a-75bc-43bb-a804-9e53bbc4bd73",
   "metadata": {},
   "outputs": [],
   "source": [
    "tf.config.run_functions_eagerly(True)"
   ]
  },
  {
   "cell_type": "code",
   "execution_count": null,
   "id": "42175a3f-845c-4aca-b728-4cc192447026",
   "metadata": {},
   "outputs": [
    {
     "name": "stderr",
     "output_type": "stream",
     "text": [
      "/home/l.nuic/.conda/envs/tf/lib/python3.9/site-packages/tensorflow/python/data/ops/dataset_ops.py:3503: UserWarning: Even though the tf.config.experimental_run_functions_eagerly option is set, this option does not apply to tf.data functions. tf.data functions are still traced and executed as graphs.\n",
      "  warnings.warn(\n",
      "2021-12-23 09:52:13.101702: I tensorflow/compiler/mlir/mlir_graph_optimization_pass.cc:116] None of the MLIR optimization passes are enabled (registered 2)\n",
      "2021-12-23 09:52:13.136145: I tensorflow/core/platform/profile_utils/cpu_utils.cc:112] CPU Frequency: 2099800000 Hz\n",
      "2021-12-23 09:52:13.222333: I tensorflow/stream_executor/platform/default/dso_loader.cc:49] Successfully opened dynamic library libcudnn.so.7\n"
     ]
    },
    {
     "name": "stdout",
     "output_type": "stream",
     "text": [
      "Epoch 1/200\n"
     ]
    },
    {
     "name": "stderr",
     "output_type": "stream",
     "text": [
      "2021-12-23 09:52:15.221418: I tensorflow/stream_executor/platform/default/dso_loader.cc:49] Successfully opened dynamic library libcublas.so.10\n"
     ]
    },
    {
     "name": "stdout",
     "output_type": "stream",
     "text": [
      "37/37 [==============================] - 15s 318ms/step - loss: 1.1581 - accuracy: 0.5555 - val_loss: 0.4161 - val_accuracy: 0.8750\n",
      "Epoch 2/200\n",
      "37/37 [==============================] - 10s 276ms/step - loss: 0.4374 - accuracy: 0.8971 - val_loss: 0.1144 - val_accuracy: 0.9663\n",
      "Epoch 3/200\n",
      "37/37 [==============================] - 10s 274ms/step - loss: 0.2856 - accuracy: 0.9396 - val_loss: 0.1507 - val_accuracy: 0.9484\n",
      "Epoch 4/200\n",
      "37/37 [==============================] - 10s 274ms/step - loss: 0.2463 - accuracy: 0.9334 - val_loss: 0.2392 - val_accuracy: 0.9306\n",
      "Epoch 5/200\n",
      "37/37 [==============================] - 10s 276ms/step - loss: 0.1494 - accuracy: 0.9435 - val_loss: 0.2005 - val_accuracy: 0.9325\n",
      "Epoch 6/200\n",
      "37/37 [==============================] - 10s 274ms/step - loss: 0.2153 - accuracy: 0.9368 - val_loss: 0.1049 - val_accuracy: 0.9563\n",
      "Epoch 7/200\n",
      "37/37 [==============================] - 10s 274ms/step - loss: 0.1763 - accuracy: 0.9371 - val_loss: 0.1375 - val_accuracy: 0.9484\n",
      "Epoch 8/200\n",
      "37/37 [==============================] - 10s 274ms/step - loss: 0.3137 - accuracy: 0.8977 - val_loss: 0.1396 - val_accuracy: 0.9544\n",
      "Epoch 9/200\n",
      "37/37 [==============================] - 10s 273ms/step - loss: 0.1278 - accuracy: 0.9628 - val_loss: 0.1585 - val_accuracy: 0.9464\n",
      "Epoch 10/200\n",
      "37/37 [==============================] - 10s 274ms/step - loss: 0.1228 - accuracy: 0.9538 - val_loss: 0.3017 - val_accuracy: 0.9127\n",
      "Epoch 11/200\n",
      "12/37 [========>.....................] - ETA: 6s - loss: 0.1845 - accuracy: 0.9124"
     ]
    }
   ],
   "source": [
    "## Training paramters like validation split and epochs can be changed as needed\n",
    "history = droplets_model.fit(x=images_train, y=labels_train, validation_split=0.3, epochs=200, \n",
    "                             class_weight=class_weight_dict, callbacks=[model_checkpoint_callback])"
   ]
  },
  {
   "cell_type": "code",
   "execution_count": null,
   "id": "b08f58da",
   "metadata": {},
   "outputs": [],
   "source": [
    "droplets_model.load_weights(f'models/{model_choice}_checkpoint')\n",
    "droplets_model.save(f'models/{model_choice}\")"
   ]
  },
  {
   "cell_type": "markdown",
   "id": "b10ce7c3",
   "metadata": {},
   "source": [
    "# Inference"
   ]
  },
  {
   "cell_type": "code",
   "execution_count": null,
   "id": "647fb757-0bd7-440a-a05f-87103a929218",
   "metadata": {},
   "outputs": [],
   "source": [
    "droplets_model = tf.keras.models.load_model(f'models/{model_choice}\")"
   ]
  },
  {
   "cell_type": "code",
   "execution_count": 25,
   "id": "893081ce-6efc-4110-bf3e-a028e368e964",
   "metadata": {},
   "outputs": [
    {
     "name": "stderr",
     "output_type": "stream",
     "text": [
      "/home/l.nuic/.conda/envs/tf/lib/python3.9/site-packages/tensorflow/python/data/ops/dataset_ops.py:3503: UserWarning: Even though the tf.config.experimental_run_functions_eagerly option is set, this option does not apply to tf.data functions. tf.data functions are still traced and executed as graphs.\n",
      "  warnings.warn(\n"
     ]
    }
   ],
   "source": [
    "labels_test_predict = droplets_model.predict(images_test)"
   ]
  },
  {
   "cell_type": "code",
   "execution_count": 26,
   "id": "a63dd673-4d69-42b7-8f78-428e9f4cf460",
   "metadata": {},
   "outputs": [
    {
     "name": "stdout",
     "output_type": "stream",
     "text": [
      "Confusion Matrix\n",
      "\n",
      "[[113  12   1]\n",
      " [ 15 525   1]\n",
      " [  2   3  48]]\n",
      "\n",
      "Classification Report\n",
      "\n",
      "               precision    recall  f1-score   support\n",
      "\n",
      "        empty       0.87      0.90      0.88       126\n",
      "         full       0.97      0.97      0.97       541\n",
      "not_a_droplet       0.96      0.91      0.93        53\n",
      "\n",
      "     accuracy                           0.95       720\n",
      "    macro avg       0.93      0.92      0.93       720\n",
      " weighted avg       0.95      0.95      0.95       720\n",
      "\n"
     ]
    }
   ],
   "source": [
    "from sklearn.metrics import confusion_matrix\n",
    "\n",
    "confusion = confusion_matrix(labels_test, np.argmax(labels_test_predict, axis=1))\n",
    "\n",
    "print('Confusion Matrix\\n')\n",
    "print(confusion)\n",
    "\n",
    "from sklearn.metrics import classification_report\n",
    "print('\\nClassification Report\\n')\n",
    "print(classification_report(labels_test, np.argmax(labels_test_predict, axis=1), target_names=['empty', 'full', 'not_a_droplet']))"
   ]
  },
  {
   "cell_type": "code",
   "execution_count": 21,
   "id": "8bb6ab97-49d5-4f6f-81bd-2a0ad1826379",
   "metadata": {},
   "outputs": [
    {
     "name": "stderr",
     "output_type": "stream",
     "text": [
      "2021-12-23 08:10:56.081988: W tensorflow/python/util/util.cc:348] Sets are not currently considered sequences, but this may change in the future, so consider avoiding using them.\n"
     ]
    },
    {
     "name": "stdout",
     "output_type": "stream",
     "text": [
      "INFO:tensorflow:Assets written to: models/vgg16_fine_tune_checkpoint/assets\n"
     ]
    }
   ],
   "source": [
    "droplets_model.save(f'models/{model_choice}')"
   ]
  },
  {
   "cell_type": "code",
   "execution_count": null,
   "id": "b3dec123-4a64-4b50-8062-8100a86941fc",
   "metadata": {},
   "outputs": [],
   "source": [
    "test_img_path = \"datasets/droplets/test/original/2_hrs_lambda_10_c0000000000.jpg\"\n",
    "\n",
    "test_img = cv2.imread(test_img_path)\n",
    "output_test_img = test_img.copy()\n",
    "\n",
    "test_img = cv2.cvtColor(test_img, cv2.COLOR_BGR2GRAY)\n",
    "\n",
    "circles_test_img = hough_circle_detection(test_img)\n",
    "\n",
    "if circles_test_img is not None:\n",
    "    # convert the (x, y) coordinates and radius of the circles to integers\n",
    "    circlesRound_test_img = np.round(circles_test_img[0, :]).astype(\"int\")\n",
    "    # loop over the (x, y) coordinates and radius of the circles\n",
    "    \n",
    "    height, width = test_img.shape[:2]\n",
    "    \n",
    "    for (x, y, r) in circlesRound_test_img:\n",
    "        if (x - r < 0 or x + r > width or y - r < 0 or y + r > height):\n",
    "            continue\n",
    "        \n",
    "        \n",
    "        x_min = math.floor(max(x - r, 0))\n",
    "        x_max = math.ceil(min(x + r, width))\n",
    "        y_min = math.floor(max(y - r, 0))\n",
    "        y_max = math.ceil(min(y + r, height))\n",
    "\n",
    "        droplet = test_img[y_min:y_max, x_min:x_max]\n",
    "        droplet = cv2.resize(droplet, (224,224))\n",
    "        \n",
    "        mask = np.zeros_like(droplet)\n",
    "        mask = cv2.circle(mask, (112, 112), 112, (255,255,255), -1)\n",
    "        masked_droplet = cv2.bitwise_and(droplet, mask)\n",
    "    \n",
    "        masked_droplet = np.array(masked_droplet, dtype=np.float32)\n",
    "\n",
    "        # Normalise the images\n",
    "        masked_droplet /= 255\n",
    "        \n",
    "        masked_droplet_3 = np.zeros((1, 224, 224, 3))\n",
    "        masked_droplet_3[0, :, :, 0] = masked_droplet\n",
    "        masked_droplet_3[0, :, :, 1] = masked_droplet\n",
    "        masked_droplet_3[0, :, :, 2] = masked_droplet\n",
    "        \n",
    "        \n",
    "        #plt.imshow(masked_droplet)\n",
    "    \n",
    "        #cv2.circle(output_test_img, (x, y), r, (0, 255, 0), 4)\n",
    "        prediction = droplets_model.predict(masked_droplet_3)\n",
    "        \n",
    "        best_i = np.argmax(prediction)\n",
    "        \n",
    "        cv2.circle(output_test_img, (x, y), r, (255 * int(best_i == 0), 255 * int(best_i == 1), 255 * int(best_i == 2)), 4)\n",
    "        \n",
    "    plt.figure(figsize=(10, 10))\n",
    "    plt.imshow(output_test_img)\n",
    "else:\n",
    "    print ('No circles found')\n",
    "\n",
    "\n",
    "# plt.imsave(\"output.png\", output_test_img)"
   ]
  },
  {
   "cell_type": "code",
   "execution_count": null,
   "id": "d87f83a5",
   "metadata": {},
   "outputs": [],
   "source": []
  }
 ],
 "metadata": {
  "kernelspec": {
   "display_name": "tf-env",
   "language": "python",
   "name": "tf-env"
  },
  "language_info": {
   "codemirror_mode": {
    "name": "ipython",
    "version": 3
   },
   "file_extension": ".py",
   "mimetype": "text/x-python",
   "name": "python",
   "nbconvert_exporter": "python",
   "pygments_lexer": "ipython3",
   "version": "3.9.7"
  }
 },
 "nbformat": 4,
 "nbformat_minor": 5
}
